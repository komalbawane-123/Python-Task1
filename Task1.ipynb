{
 "cells": [
  {
   "cell_type": "markdown",
   "id": "22ec0ced-99d6-4de3-964a-8dddfeeb163a",
   "metadata": {},
   "source": [
    "- Item 1\n",
    "- Item 2\n",
    "  - Subitem 2.1\n"
   ]
  },
  {
   "cell_type": "markdown",
   "id": "56eacbfe-382a-4b06-8ab3-2d0f92a6de0d",
   "metadata": {},
   "source": [
    "- Item 1\n",
    "- Item 2\n",
    "  - Subitem 2.1\n"
   ]
  },
  {
   "cell_type": "markdown",
   "id": "fc443a55-0895-4908-8691-2689895fea2d",
   "metadata": {},
   "source": [
    "```python\n",
    "print(\"Hello, India!\")"
   ]
  },
  {
   "cell_type": "markdown",
   "id": "3c6e69a0-2ce0-4460-8028-b3190abf3c05",
   "metadata": {},
   "source": [
    "```python\n",
    "print(\"Hello, India!\")"
   ]
  },
  {
   "cell_type": "markdown",
   "id": "4ce6e564-f287-4330-b706-a8abf56b2d94",
   "metadata": {},
   "source": [
    "`print()`"
   ]
  },
  {
   "cell_type": "markdown",
   "id": "12a4c27d-3c50-47e8-9670-2befd716b4cb",
   "metadata": {},
   "source": [
    "`print()`"
   ]
  },
  {
   "cell_type": "markdown",
   "id": "e7444461-c912-4fec-81ed-df07d356581f",
   "metadata": {},
   "source": [
    "> this is blockquote."
   ]
  },
  {
   "cell_type": "markdown",
   "id": "0759b5ab-3aa3-48e6-ac55-c7f0afce62d2",
   "metadata": {},
   "source": [
    "> this is blockquote."
   ]
  },
  {
   "cell_type": "markdown",
   "id": "8992131f-eddd-4c3b-9036-1d3e460c2ee7",
   "metadata": {},
   "source": [
    "| Column 1 | Column 2|\n",
    "|----------|---------|\n",
    "| Row 1    | Data 1  |\n",
    "| Row 2    | Data 2  |"
   ]
  },
  {
   "cell_type": "markdown",
   "id": "91058cc2-d69e-4771-8e03-c16312e43607",
   "metadata": {},
   "source": [
    "| Column 1 | Column 2|\n",
    "|----------|---------|\n",
    "| Row 1    | Data 1  |\n",
    "| Row 2    | Data 2  |"
   ]
  },
  {
   "cell_type": "markdown",
   "id": "45f96c9f-aaf9-4616-9355-9ae7543c0537",
   "metadata": {},
   "source": [
    "---- OR **** "
   ]
  },
  {
   "cell_type": "markdown",
   "id": "723cd1fa-69af-4d93-b408-1d653bda7600",
   "metadata": {},
   "source": [
    "---- OR ****"
   ]
  },
  {
   "cell_type": "markdown",
   "id": "5941fd24-ac24-485e-8389-70cf4be60c5d",
   "metadata": {},
   "source": [
    "Inline math: $E=mc^2$\n",
    "Block math:\n",
    "$$\n",
    "E=mc^2\n",
    "$$\n"
   ]
  },
  {
   "cell_type": "markdown",
   "id": "31ffa23e-b7e8-41d6-8fdc-f1be51ee6e73",
   "metadata": {},
   "source": [
    "Inline math: $E=mc^2$\n",
    "Block math:\n",
    "$$\n",
    "E=mc^2\n",
    "$$\n"
   ]
  },
  {
   "cell_type": "markdown",
   "id": "05dc5995-8050-4132-9c7b-fb9a25351dc7",
   "metadata": {},
   "source": [
    "HTML \n",
    "\n",
    "<b>Bold text</b>\n"
   ]
  },
  {
   "cell_type": "markdown",
   "id": "a9f3be9c-1f86-40af-a2ff-64ab056adb7f",
   "metadata": {},
   "source": [
    "HTML \n",
    "\n",
    "<b>Bold text</b>\n"
   ]
  },
  {
   "cell_type": "markdown",
   "id": "48510e9c-7e95-427e-8afe-2b97c7615745",
   "metadata": {},
   "source": [
    "Line  1\n",
    "Line  2 "
   ]
  },
  {
   "cell_type": "markdown",
   "id": "ee85bdf9-9fba-423b-9ec5-837868cb2aa3",
   "metadata": {},
   "source": [
    "Line  1\n",
    "Line  2 "
   ]
  },
  {
   "cell_type": "markdown",
   "id": "e14c4434-8f47-40ba-98a1-199ff2ebb520",
   "metadata": {},
   "source": [
    "Here is a footnote reference[^1^][1].\n",
    "[^1^][1]: Here is the footnote."
   ]
  },
  {
   "cell_type": "markdown",
   "id": "d6f336eb-e0e1-4656-b63d-ec8d771f890b",
   "metadata": {},
   "source": [
    "Here is a footnote reference[^1^][1].\n",
    "[^1^][1]: Here is the footnote."
   ]
  },
  {
   "cell_type": "markdown",
   "id": "77793950-da72-45e9-88fc-0d5317858298",
   "metadata": {},
   "source": [
    "- [x] Completed task\n",
    "- [] Incomplete task"
   ]
  },
  {
   "cell_type": "markdown",
   "id": "d3cb2973-63fc-4ee7-8689-6b890bcb4281",
   "metadata": {},
   "source": [
    "- [x] Completed task\n",
    "- [] Incomplete task"
   ]
  },
  {
   "cell_type": "markdown",
   "id": "71905f34-2ec2-46cf-a015-64ccbf97acf1",
   "metadata": {},
   "source": [
    "Use \\* to escape asterisk."
   ]
  },
  {
   "cell_type": "markdown",
   "id": "c464ea5c-256f-483b-b3b2-cbf4a18c303a",
   "metadata": {},
   "source": [
    "Use \\* to escape asterisk."
   ]
  },
  {
   "cell_type": "markdown",
   "id": "87dfc472-fb0b-40e0-9da1-40c2e7b88e9b",
   "metadata": {},
   "source": [
    "1. First item\n",
    "   -Subitem 1\n",
    "   -Subitem 2\n",
    "2. Second item"
   ]
  },
  {
   "cell_type": "markdown",
   "id": "6a0cb0d0-70b9-4706-a166-0e031f76819b",
   "metadata": {},
   "source": [
    "1. First item\n",
    "   -Subitem 1\n",
    "   -Subitem 2\n",
    "2. Second item"
   ]
  },
  {
   "cell_type": "markdown",
   "id": "402a7939-f609-404f-8263-ba6012469863",
   "metadata": {},
   "source": [
    "[Go to Section](#section-title)\r\n"
   ]
  },
  {
   "cell_type": "markdown",
   "id": "bc867132-5713-4a56-bae6-8354df3d9f6a",
   "metadata": {},
   "source": [
    "[Go to Section](#section-title)\r\n"
   ]
  },
  {
   "cell_type": "code",
   "execution_count": 77,
   "id": "4974702f-7892-45a3-b073-df9ea2169bf5",
   "metadata": {},
   "outputs": [
    {
     "data": {
      "image/png": "[encoded data removed]",
      "text/plain": [
       "<Figure size 640x480 with 1 Axes>"
      ]
     },
     "metadata": {},
     "output_type": "display_data"
    }
   ],
   "source": [
    "import matplotlib.pyplot as plt\n",
    "plt.plot([1, 2, 3], [4, 5, 6])\n",
    "plt.show() \n"
   ]
  },
  {
   "cell_type": "code",
   "execution_count": 81,
   "id": "b176149f-96e0-474d-a7b2-ad428a554039",
   "metadata": {},
   "outputs": [
    {
     "data": {
      "application/vnd.jupyter.widget-view+json": {
       "model_id": "9d6a423968ae4343b55422c887c02c5e",
       "version_major": 2,
       "version_minor": 0
      },
      "text/plain": [
       "interactive(children=(IntSlider(value=10, description='x', max=30, min=-10), Output()), _dom_classes=('widget-…"
      ]
     },
     "metadata": {},
     "output_type": "display_data"
    }
   ],
   "source": [
    "from ipywidgets import interact\n",
    "interact(lambda x: x, x=10); \n"
   ]
  },
  {
   "cell_type": "markdown",
   "id": "183b413e-eba2-4942-a991-473f0493b44d",
   "metadata": {},
   "source": [
    "[OpenAI](https://www.openai.com)\n"
   ]
  },
  {
   "cell_type": "markdown",
   "id": "00ad02fc-2275-49dd-9ac8-b1559b805500",
   "metadata": {},
   "source": [
    "[OpenAI](https://www.openai.com)\n"
   ]
  }
 ],
 "metadata": {
  "kernelspec": {
   "display_name": "Python 3 (ipykernel)",
   "language": "python",
   "name": "python3"
  },
  "language_info": {
   "codemirror_mode": {
    "name": "ipython",
    "version": 3
   },
   "file_extension": ".py",
   "mimetype": "text/x-python",
   "name": "python",
   "nbconvert_exporter": "python",
   "pygments_lexer": "ipython3",
   "version": "3.12.4"
  }
 },
 "nbformat": 4,
 "nbformat_minor": 5
}
